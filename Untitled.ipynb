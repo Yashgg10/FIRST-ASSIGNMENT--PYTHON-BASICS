{
 "cells": [
  {
   "cell_type": "markdown",
   "id": "f83e2749-dd39-438c-a9cb-5359ce6c4fe5",
   "metadata": {},
   "source": [
    "Q1 ans-\n"
   ]
  },
  {
   "cell_type": "raw",
   "id": "419bdc72-b7a3-49d4-b1c0-e8a4feea539d",
   "metadata": {},
   "source": [
    "Dynamically Typed\n",
    "Object Oriented\n",
    "Large Community Support\n",
    "Open Source language\n",
    "Large Standard Library\n",
    "Platform Independent\n",
    "High Level Language\n",
    "Extensible and Embeddable"
   ]
  },
  {
   "cell_type": "markdown",
   "id": "1af61db3-18bd-49a4-a53d-e877e2ea1a5a",
   "metadata": {},
   "source": [
    "Q2 ANS\n"
   ]
  },
  {
   "cell_type": "raw",
   "id": "7b5452b0-b3d3-4d55-8612-e8a8174abcc3",
   "metadata": {},
   "source": [
    " They are used to define the structure and flow of a Python program."
   ]
  },
  {
   "cell_type": "code",
   "execution_count": 3,
   "id": "75b0b565-701b-4c93-bfa4-d7dda44f1bfe",
   "metadata": {},
   "outputs": [
    {
     "name": "stdout",
     "output_type": "stream",
     "text": [
      "\n",
      "Here is a list of the Python keywords.  Enter any keyword to get more help.\n",
      "\n",
      "False               class               from                or\n",
      "None                continue            global              pass\n",
      "True                def                 if                  raise\n",
      "and                 del                 import              return\n",
      "as                  elif                in                  try\n",
      "assert              else                is                  while\n",
      "async               except              lambda              with\n",
      "await               finally             nonlocal            yield\n",
      "break               for                 not                 \n",
      "\n"
     ]
    }
   ],
   "source": [
    "help('keywords')"
   ]
  },
  {
   "cell_type": "raw",
   "id": "4ba89aea-4121-47a6-97b2-c1b9e8f53da6",
   "metadata": {},
   "source": [
    "some examples are given below"
   ]
  },
  {
   "cell_type": "code",
   "execution_count": 5,
   "id": "21c69753-60b0-4bde-aac8-c23ff0eb1efb",
   "metadata": {},
   "outputs": [
    {
     "name": "stdout",
     "output_type": "stream",
     "text": [
      "x is greater than 5\n",
      "0\n",
      "1\n",
      "2\n"
     ]
    }
   ],
   "source": [
    "# if , else ,for\n",
    "x = 10\n",
    "if x > 5:\n",
    "    print(\"x is greater than 5\")\n",
    "else:\n",
    "    print(\"x is 5 or less\")\n",
    "\n",
    "for i in range(5):\n",
    "    if i == 3:\n",
    "        break  # Exit the loop when i is 3\n",
    "    print(i)\n"
   ]
  },
  {
   "cell_type": "code",
   "execution_count": 6,
   "id": "b6a25c7c-6e6f-4708-943f-5e0fcf4f6815",
   "metadata": {},
   "outputs": [
    {
     "name": "stdout",
     "output_type": "stream",
     "text": [
      "You don't need an umbrella.\n"
     ]
    }
   ],
   "source": [
    "# bool keywords\n",
    "is_sunny = True\n",
    "has_umbrella = False\n",
    "\n",
    "if is_sunny and not has_umbrella:\n",
    "    print(\"You don't need an umbrella.\")"
   ]
  },
  {
   "cell_type": "markdown",
   "id": "d6ab13fb-aa4b-4729-91dc-7b6121caf0a0",
   "metadata": {},
   "source": [
    "Q3 ANS-\n"
   ]
  },
  {
   "cell_type": "raw",
   "id": "097bfba8-4e56-494a-8c65-fc42e7db435b",
   "metadata": {},
   "source": [
    "Mutable objects are those that can be changed or modified after they are created. When a mutable object is altered, the object itself is modified in place, and no new object is created. For eg:- lists"
   ]
  },
  {
   "cell_type": "code",
   "execution_count": 7,
   "id": "e5e35aa9-2802-4760-af49-58307458d1e4",
   "metadata": {},
   "outputs": [
    {
     "name": "stdout",
     "output_type": "stream",
     "text": [
      "[1, 2, 3, 4]\n",
      "[10, 2, 3, 4]\n"
     ]
    }
   ],
   "source": [
    "a = [1, 2, 3]\n",
    "a.append(4) \n",
    "print(a)  \n",
    "\n",
    "a[0] = 10 \n",
    "print(a)  "
   ]
  },
  {
   "cell_type": "raw",
   "id": "6fd15bbd-669e-458e-96ac-5f7c64f1010a",
   "metadata": {},
   "source": [
    "Immutable objects are those that cannot be changed or modified after they are created. Any operation that tries to modify an immutable object will instead create a new object with the modified value. For eg:- strings"
   ]
  },
  {
   "cell_type": "code",
   "execution_count": 9,
   "id": "49c3e2bf-0259-423d-bce8-bc0058d9200c",
   "metadata": {},
   "outputs": [
    {
     "name": "stdout",
     "output_type": "stream",
     "text": [
      "Yash\n"
     ]
    },
    {
     "ename": "TypeError",
     "evalue": "'str' object does not support item assignment",
     "output_type": "error",
     "traceback": [
      "\u001b[0;31m---------------------------------------------------------------------------\u001b[0m",
      "\u001b[0;31mTypeError\u001b[0m                                 Traceback (most recent call last)",
      "Cell \u001b[0;32mIn[9], line 4\u001b[0m\n\u001b[1;32m      1\u001b[0m s1 \u001b[38;5;241m=\u001b[39m \u001b[38;5;124m\"\u001b[39m\u001b[38;5;124mYash\u001b[39m\u001b[38;5;124m\"\u001b[39m\n\u001b[1;32m      2\u001b[0m \u001b[38;5;28mprint\u001b[39m(s1)\n\u001b[0;32m----> 4\u001b[0m \u001b[43ms1\u001b[49m\u001b[43m[\u001b[49m\u001b[38;5;241;43m0\u001b[39;49m\u001b[43m]\u001b[49m \u001b[38;5;241m=\u001b[39m \u001b[38;5;124m\"\u001b[39m\u001b[38;5;124mH\u001b[39m\u001b[38;5;124m\"\u001b[39m\n\u001b[1;32m      5\u001b[0m \u001b[38;5;28mprint\u001b[39m(s1)\n",
      "\u001b[0;31mTypeError\u001b[0m: 'str' object does not support item assignment"
     ]
    }
   ],
   "source": [
    "s1 = \"Yash\"\n",
    "print(s1)\n",
    "\n",
    "s1[0] = \"H\"\n",
    "print(s1)"
   ]
  },
  {
   "cell_type": "markdown",
   "id": "aabbafad-a321-43cb-91f6-3be150f9d421",
   "metadata": {},
   "source": [
    "Q4 ANS-\n"
   ]
  },
  {
   "cell_type": "raw",
   "id": "67a2d71c-3582-46f0-b373-f50f016289b7",
   "metadata": {},
   "source": [
    "some operators are\n",
    "ARITHMETIC\n",
    "+,-,*,/,**,//, etc.\n",
    "COMPARISON\n",
    ">,<, >=, <=, != etc.\n",
    "LOGICAL\n",
    "and, or, not\n",
    "BITWISE\n",
    "&, | , ^, << , etc.\n",
    "ASSIGNMENT\n",
    "=, += ,-=, etc.\n",
    "MEMEBERSHIP\n",
    "in, not in\n",
    "IDENTITY \n",
    "is, not is"
   ]
  },
  {
   "cell_type": "code",
   "execution_count": null,
   "id": "4c84b99e-8695-4e6b-901c-7591cbe337b9",
   "metadata": {},
   "outputs": [],
   "source": [
    "a = 20\n",
    "b = 5\n",
    "print(a+b)\n",
    "print(a==b)\n",
    "x = True\n",
    "y = False\n",
    "print(x and y)\n",
    "print(a & b)\n",
    "b += 5\n",
    "print(b)\n",
    "a = [2,3,4,\"pw\"]\n",
    "print(\"x3\" not in a)\n",
    "print(b is a)"
   ]
  },
  {
   "cell_type": "markdown",
   "id": "6da68f3e-9304-4c14-a625-d52f94b959ba",
   "metadata": {},
   "source": [
    "Q5 ANS"
   ]
  },
  {
   "cell_type": "raw",
   "id": "ab515174-19be-447c-bb2c-f2b91fba8f80",
   "metadata": {},
   "source": [
    "Type casting in Python refers to the process of converting a variable from one data type to another. This can be done either explicitly by the programmer or implicitly by Python under certain conditions. Type casting is useful when you need to perform operations on variables of different types or when you want to ensure that variables are treated as a specific type."
   ]
  },
  {
   "cell_type": "code",
   "execution_count": 16,
   "id": "b3246b1c-9e15-4802-b980-1b41c64d3b66",
   "metadata": {},
   "outputs": [
    {
     "name": "stdout",
     "output_type": "stream",
     "text": [
      "7.5\n"
     ]
    }
   ],
   "source": [
    "#IMPLICIT TYPE CASTING\n",
    "'''\n",
    "Python automatically converts one data type to another without explicit instruction.\n",
    "This usually happens when mixing data types in an operation that requires one type to be converted to another.\n",
    "'''\n",
    "a = 2\n",
    "b = 5.5\n",
    "print(a+b)"
   ]
  },
  {
   "cell_type": "code",
   "execution_count": 17,
   "id": "1d4276f1-3f10-4ee7-b753-fcf77a482ae1",
   "metadata": {},
   "outputs": [
    {
     "name": "stdout",
     "output_type": "stream",
     "text": [
      "2PWSKILLS\n"
     ]
    }
   ],
   "source": [
    "#EXPLICIT TYPE CASTING\n",
    "'''\n",
    "The programmer manually converts one data type to another using type conversion functions.\n",
    "The most common functions for explicit type casting are int(), float(), etc.\n",
    "'''\n",
    "a = 2\n",
    "b = \"PWSKILLS\"\n",
    "a = str(a)\n",
    "print(a+b)"
   ]
  },
  {
   "cell_type": "markdown",
   "id": "f6d8b68e-7ab6-4766-bf9f-84343ab78bea",
   "metadata": {},
   "source": [
    "Q6 ANS-"
   ]
  },
  {
   "cell_type": "raw",
   "id": "af314684-083a-414d-8d5d-c4748c78d6f0",
   "metadata": {},
   "source": [
    "Conditional statements in Python allow you to execute certain blocks of code based on whether a condition is true or false. These statements control the flow of your program, enabling decision-making within the code."
   ]
  },
  {
   "cell_type": "code",
   "execution_count": 18,
   "id": "770f2d07-1dfa-4633-b089-a0b14dfb1288",
   "metadata": {},
   "outputs": [
    {
     "name": "stdin",
     "output_type": "stream",
     "text": [
      "Please enter your name YASH\n",
      "Please enter your email yash@pw.com\n",
      "Please eneter your password 1234\n"
     ]
    },
    {
     "name": "stdout",
     "output_type": "stream",
     "text": [
      "Login/registration is successfull\n"
     ]
    }
   ],
   "source": [
    "name = input(\"Please enter your name\")\n",
    "email = input(\"Please enter your email\")\n",
    "password = input(\"Please eneter your password\")\n",
    "\n",
    "if name == \"\":\n",
    "    print(\"Please enter a valid name, can not be empty\")\n",
    "else:\n",
    "    if \"@\" not in email:\n",
    "        print(\"Please enter a valid email\")\n",
    "    else:\n",
    "        if len(password) < 0:\n",
    "            print(\"No password entered, pls provide a valid password\")\n",
    "        else:\n",
    "            print(\"Login/registration is successfull\")"
   ]
  },
  {
   "cell_type": "markdown",
   "id": "3386ab10-37b3-4491-b21a-2a0715d42ead",
   "metadata": {},
   "source": [
    "Q7 ANS-"
   ]
  },
  {
   "cell_type": "code",
   "execution_count": 19,
   "id": "1296cd81-df91-475e-934b-60f6deacd1f1",
   "metadata": {},
   "outputs": [
    {
     "name": "stdout",
     "output_type": "stream",
     "text": [
      "apple\n",
      "banana\n",
      "cherry\n"
     ]
    }
   ],
   "source": [
    "# FOR LOOP\n",
    "fruits = [\"apple\", \"banana\", \"cherry\"]\n",
    "\n",
    "for fruit in fruits:\n",
    "    print(fruit)"
   ]
  },
  {
   "cell_type": "code",
   "execution_count": 20,
   "id": "9109cfe7-7e69-4afc-baf9-4302a93a97c2",
   "metadata": {},
   "outputs": [
    {
     "name": "stdout",
     "output_type": "stream",
     "text": [
      "0\n",
      "1\n",
      "2\n",
      "3\n",
      "4\n"
     ]
    }
   ],
   "source": [
    "# WHILE LOOP\n",
    "i = 0\n",
    "while i < 5:\n",
    "    print(i)\n",
    "    i+=1"
   ]
  },
  {
   "cell_type": "code",
   "execution_count": 22,
   "id": "df6e28a6-f51d-4a7a-94dc-f21dee90ee03",
   "metadata": {},
   "outputs": [
    {
     "name": "stdout",
     "output_type": "stream",
     "text": [
      "0\n",
      "1\n",
      "2\n",
      "3\n",
      "4\n",
      "NICE EXAMPLE\n"
     ]
    }
   ],
   "source": [
    "# LOOP WITH CONTROL STATEMENTS\n",
    "for i in range(5):\n",
    "    print(i)\n",
    "else: print(\"NICE EXAMPLE\")"
   ]
  },
  {
   "cell_type": "code",
   "execution_count": null,
   "id": "bd326f03-2408-4de6-aca9-21ec3a41ba56",
   "metadata": {},
   "outputs": [],
   "source": []
  }
 ],
 "metadata": {
  "kernelspec": {
   "display_name": "Python 3 (ipykernel)",
   "language": "python",
   "name": "python3"
  },
  "language_info": {
   "codemirror_mode": {
    "name": "ipython",
    "version": 3
   },
   "file_extension": ".py",
   "mimetype": "text/x-python",
   "name": "python",
   "nbconvert_exporter": "python",
   "pygments_lexer": "ipython3",
   "version": "3.10.8"
  }
 },
 "nbformat": 4,
 "nbformat_minor": 5
}
